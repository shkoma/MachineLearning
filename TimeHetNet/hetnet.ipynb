{
 "cells": [
  {
   "cell_type": "code",
   "execution_count": 1,
   "metadata": {},
   "outputs": [],
   "source": [
    "# torch.nn 네임스페이스는 신경망을 구성하는데 필요한 모든 구성 요소\n",
    "# PyTorch의 모든 모듈은 nn.Module 의 하위 클래스(subclass)\n",
    "\n",
    "import os\n",
    "import torch\n",
    "from torch import nn\n",
    "from torch.utils.data import DataLoader\n",
    "from torchvision import datasets, transforms"
   ]
  },
  {
   "cell_type": "code",
   "execution_count": 2,
   "metadata": {},
   "outputs": [
    {
     "name": "stdout",
     "output_type": "stream",
     "text": [
      "Using cpu device\n"
     ]
    }
   ],
   "source": [
    "# 가능한 경우 GPU 또는 MPS와 같은 하드웨어 가속기에서 모델을 학습. \n",
    "# torch.cuda 또는 torch.backends.mps 가 사용 가능한지 확인해보고, 그렇지 않으면 CPU를 계속 사용\n",
    "\n",
    "device = (\n",
    "    \"cuda\"\n",
    "    if torch.cuda.is_available()\n",
    "    else \"mps\"\n",
    "    if torch.backends.mps.is_available()\n",
    "    else \"cpu\"\n",
    ")\n",
    "print(f\"Using {device} device\")"
   ]
  },
  {
   "cell_type": "code",
   "execution_count": 14,
   "metadata": {},
   "outputs": [],
   "source": [
    "# 신경망 모델을 nn.Module 의 하위클래스로 정의\n",
    "# __init__ 에서 신경망 계층들을 초기화\n",
    "# nn.Module 을 상속받은 모든 클래스는 forward 메소드에 입력 데이터에 대한 연산들을 구현\n",
    "\n",
    "class NeuralNetwork(nn.Module):\n",
    "    def __init__(self):\n",
    "        super().__init__()\n",
    "        self.flatten = nn.Flatten()\n",
    "        self.linear_relu_stack = nn.Sequential(\n",
    "            nn.Linear(28*28, 512),\n",
    "            nn.ReLU(),\n",
    "            nn.Linear(512, 512),\n",
    "            nn.ReLU(),\n",
    "            nn.Linear(512, 10),\n",
    "        )\n",
    "        \n",
    "    def forward(self, x):\n",
    "        x = self.flatten(x)\n",
    "        logits = self.linear_relu_stack(x)\n",
    "        return logits"
   ]
  },
  {
   "cell_type": "code",
   "execution_count": 15,
   "metadata": {},
   "outputs": [
    {
     "name": "stdout",
     "output_type": "stream",
     "text": [
      "NeuralNetwork(\n",
      "  (flatten): Flatten(start_dim=1, end_dim=-1)\n",
      "  (linear_relu_stack): Sequential(\n",
      "    (0): Linear(in_features=784, out_features=512, bias=True)\n",
      "    (1): ReLU()\n",
      "    (2): Linear(in_features=512, out_features=512, bias=True)\n",
      "    (3): ReLU()\n",
      "    (4): Linear(in_features=512, out_features=10, bias=True)\n",
      "  )\n",
      ")\n"
     ]
    }
   ],
   "source": [
    "# NeuralNetwork 의 인스턴스(instance)를 생성하고 \n",
    "# 이를 device 로 이동한 뒤, 구조(structure)를 출력\n",
    "\n",
    "model = NeuralNetwork().to(device)\n",
    "print(model)"
   ]
  },
  {
   "cell_type": "code",
   "execution_count": 32,
   "metadata": {},
   "outputs": [
    {
     "name": "stdout",
     "output_type": "stream",
     "text": [
      "The original value of class: tensor([[-0.0775, -0.1220,  0.0350,  0.0266,  0.0050, -0.0559, -0.0050,  0.0205,\n",
      "         -0.0062, -0.0120]], grad_fn=<AddmmBackward0>)\n",
      "The softmax value of class: tensor([[0.0942, 0.0901, 0.1054, 0.1046, 0.1023, 0.0963, 0.1013, 0.1039, 0.1012,\n",
      "         0.1006]], grad_fn=<SoftmaxBackward0>)\n",
      "Predicted class: 2\n"
     ]
    }
   ],
   "source": [
    "# 모델을 사용하기 위해 입력 데이터를 전달\n",
    "# -> 이는 일부 백그라운드 연산들과 함께 모델의 forward 를 실행\n",
    "# -> model.forward() 를 직접 호출 금지!\n",
    "\n",
    "# 모델에 입력을 전달하여 호출하면 2차원 텐서를 반환\n",
    "# 2차원 텐서의 \n",
    "# ? dim=0은 각 분류(class)에 대한 원시(raw) 예측값 10개가, \n",
    "# dim=1에는 각 출력의 개별 값들이 해당\n",
    "# 원시 예측값을 nn.Softmax 모듈의 인스턴스에 통과시켜 예측 확률을 획득\n",
    "\n",
    "X = torch.rand(1, 28, 28, device=device)\n",
    "logits = model(X)\n",
    "pred_probab = nn.Softmax(dim=1)(logits)\n",
    "y_pred = pred_probab.argmax()\n",
    "\n",
    "print(f\"The original value of class: {logits}\")\n",
    "print(f\"The softmax value of class: {pred_probab}\")\n",
    "print(f\"Predicted class: {y_pred}\")"
   ]
  },
  {
   "cell_type": "code",
   "execution_count": 39,
   "metadata": {},
   "outputs": [
    {
     "name": "stdout",
     "output_type": "stream",
     "text": [
      "torch.Size([3, 28, 28])\n",
      "torch.Size([3, 784])\n"
     ]
    }
   ],
   "source": [
    "# nn.Flatten 계층을 초기화하여 \n",
    "# 각 28x28의 2D 이미지를 784 픽셀 값을 갖는 연속된 배열로 변환\n",
    "# dim=0의 미니배치 차원은 유지\n",
    "\n",
    "input_image = torch.rand(3, 28, 28)\n",
    "print(input_image.size())\n",
    "\n",
    "flatten = nn.Flatten()\n",
    "flat_image = flatten(input_image)\n",
    "print(flat_image.size())\n",
    "\n",
    "# torch.Size([3, 28, 28])\n",
    "# torch.Size([3, 784])"
   ]
  },
  {
   "cell_type": "code",
   "execution_count": 40,
   "metadata": {},
   "outputs": [
    {
     "name": "stdout",
     "output_type": "stream",
     "text": [
      "torch.Size([3, 20])\n"
     ]
    }
   ],
   "source": [
    "# nn.Linear\n",
    "# 선형 계층은 저장된 가중치(weight)와 편향(bias)을 사용\n",
    "# 입력에 선형 변환(linear transformation)을 적용하는 모듈\n",
    "\n",
    "layer1 = nn.Linear(in_features=28*28, out_features=20)\n",
    "hidden1 = layer1(flat_image)\n",
    "print(hidden1.size())"
   ]
  },
  {
   "cell_type": "code",
   "execution_count": 41,
   "metadata": {},
   "outputs": [
    {
     "name": "stdout",
     "output_type": "stream",
     "text": [
      "Before ReLU: tensor([[ 0.0164,  0.1638,  0.6039, -0.0197, -0.3508,  0.5319, -0.2057, -0.1183,\n",
      "         -0.0536, -0.2349, -0.1013,  0.1310,  0.3289,  0.2568,  0.4576,  0.4398,\n",
      "          0.1183,  0.0032,  0.5397,  0.3530],\n",
      "        [ 0.2285, -0.2444,  0.8031, -0.0763, -0.6805, -0.1081, -0.2019, -0.1925,\n",
      "          0.2095, -0.3478, -0.0586, -0.1980,  0.0715,  0.5145,  0.4676,  0.5518,\n",
      "          0.3135, -0.0285,  0.6864,  0.5769],\n",
      "        [-0.2533, -0.1182,  0.6992,  0.1528, -0.2307,  0.2978, -0.3812, -0.1322,\n",
      "          0.2623, -0.6546, -0.5436, -0.0583,  0.0264,  0.3378,  0.8147,  0.6610,\n",
      "          0.3413,  0.0817,  0.8187,  0.4087]], grad_fn=<AddmmBackward0>)\n",
      "\n",
      "\n",
      "After ReLU: tensor([[0.0164, 0.1638, 0.6039, 0.0000, 0.0000, 0.5319, 0.0000, 0.0000, 0.0000,\n",
      "         0.0000, 0.0000, 0.1310, 0.3289, 0.2568, 0.4576, 0.4398, 0.1183, 0.0032,\n",
      "         0.5397, 0.3530],\n",
      "        [0.2285, 0.0000, 0.8031, 0.0000, 0.0000, 0.0000, 0.0000, 0.0000, 0.2095,\n",
      "         0.0000, 0.0000, 0.0000, 0.0715, 0.5145, 0.4676, 0.5518, 0.3135, 0.0000,\n",
      "         0.6864, 0.5769],\n",
      "        [0.0000, 0.0000, 0.6992, 0.1528, 0.0000, 0.2978, 0.0000, 0.0000, 0.2623,\n",
      "         0.0000, 0.0000, 0.0000, 0.0264, 0.3378, 0.8147, 0.6610, 0.3413, 0.0817,\n",
      "         0.8187, 0.4087]], grad_fn=<ReluBackward0>)\n"
     ]
    }
   ],
   "source": [
    "# nn.ReLU\n",
    "# 비선형 활성화(activation)는 모델의 입력과 출력 사이에 복잡한 관계(mapping)를 만듦\n",
    "# 비선형 활성화는 선형 변환 후에 적용되어 비선형성(nonlinearity) 을 도입하고, \n",
    "# 신경망이 다양한 현상을 학습할 수 있도록 돕습니다.\n",
    "# 이 모델에서는 nn.ReLU 를 선형 계층들 사이에 사용하지만, \n",
    "# 모델을 만들 때는 비선형성을 가진 다른 활성화를 도입 가능\n",
    "\n",
    "print(f\"Before ReLU: {hidden1}\\n\\n\")\n",
    "hidden1 = nn.ReLU()(hidden1)\n",
    "print(f\"After ReLU: {hidden1}\")"
   ]
  },
  {
   "cell_type": "code",
   "execution_count": 42,
   "metadata": {},
   "outputs": [],
   "source": [
    "# nn.Sequential\n",
    "# nn.Sequential 은 순서를 갖는 모듈의 컨테이너\n",
    "# 데이터는 정의된 것과 같은 순서로 모든 모듈들을 통해 전달\n",
    "# 순차 컨테이너(sequential container)를 사용하여 \n",
    "# 아래의 seq_modules 와 같은 신경망을 빠르게 만들 수 있습니다.\n",
    "\n",
    "seq_modules = nn.Sequential(\n",
    "    flatten,\n",
    "    layer1,\n",
    "    nn.ReLU(),\n",
    "    nn.Linear(20, 10)\n",
    ")\n",
    "\n",
    "input_image = torch.rand(3, 28, 28)\n",
    "logits = seq_modules(input_image)"
   ]
  },
  {
   "cell_type": "code",
   "execution_count": 44,
   "metadata": {},
   "outputs": [
    {
     "name": "stdout",
     "output_type": "stream",
     "text": [
      "tensor([[0.0817, 0.1212, 0.0803, 0.0837, 0.0952, 0.1024, 0.1470, 0.0715, 0.0845,\n",
      "         0.1324],\n",
      "        [0.0880, 0.1265, 0.0825, 0.0878, 0.0845, 0.1127, 0.1387, 0.0700, 0.0828,\n",
      "         0.1265],\n",
      "        [0.0889, 0.1230, 0.0815, 0.0831, 0.0979, 0.0964, 0.1512, 0.0710, 0.0915,\n",
      "         0.1154]], grad_fn=<SoftmaxBackward0>)\n"
     ]
    }
   ],
   "source": [
    "# nn.Softmax\n",
    "# 신경망의 마지막 선형 계층은 nn.Softmax 모듈에 \n",
    "# 전달될 ([-infty, infty] 범위의 원시 값(raw value)인) logits 를 반환\n",
    "# logits는 모델의 각 분류(class)에 대한 예측 확률을 나타내도록 \n",
    "# [0, 1] 범위로 비례하여 조정(scale)\n",
    "# dim 매개변수는 값의 합이 1이 되는 차원\n",
    "\n",
    "softmax = nn.Softmax(dim=1)\n",
    "pred_probab = softmax(logits)\n",
    "print(pred_probab)\n"
   ]
  },
  {
   "cell_type": "code",
   "execution_count": 67,
   "metadata": {},
   "outputs": [
    {
     "name": "stdout",
     "output_type": "stream",
     "text": [
      "Model structure: NeuralNetwork(\n",
      "  (flatten): Flatten(start_dim=1, end_dim=-1)\n",
      "  (linear_relu_stack): Sequential(\n",
      "    (0): Linear(in_features=784, out_features=512, bias=True)\n",
      "    (1): ReLU()\n",
      "    (2): Linear(in_features=512, out_features=512, bias=True)\n",
      "    (3): ReLU()\n",
      "    (4): Linear(in_features=512, out_features=10, bias=True)\n",
      "  )\n",
      ")\n",
      "\n",
      "\n",
      "Layer: linear_relu_stack.0.weight | Size: torch.Size([512, 784]) | Values: tensor([[-0.0148, -0.0179,  0.0294,  ..., -0.0211, -0.0301, -0.0206],\n",
      "        [-0.0212,  0.0044,  0.0177,  ...,  0.0029, -0.0105, -0.0279]],\n",
      "       grad_fn=<SliceBackward0>)\n",
      "\n",
      "Layer: linear_relu_stack.0.bias | Size: torch.Size([512]) | Values: tensor([-0.0153,  0.0290], grad_fn=<SliceBackward0>)\n",
      "\n",
      "Layer: linear_relu_stack.2.weight | Size: torch.Size([512, 512]) | Values: tensor([[ 0.0003, -0.0425, -0.0145,  ...,  0.0092, -0.0337,  0.0359],\n",
      "        [-0.0033, -0.0391,  0.0421,  ...,  0.0265,  0.0035, -0.0441]],\n",
      "       grad_fn=<SliceBackward0>)\n",
      "\n",
      "Layer: linear_relu_stack.2.bias | Size: torch.Size([512]) | Values: tensor([-0.0057, -0.0327], grad_fn=<SliceBackward0>)\n",
      "\n",
      "Layer: linear_relu_stack.4.weight | Size: torch.Size([10, 512]) | Values: tensor([[-2.1674e-02, -4.0797e-02, -3.0517e-02,  ..., -1.7224e-02,\n",
      "         -3.0408e-02, -2.1509e-02],\n",
      "        [ 1.1100e-02, -8.4680e-03, -3.6579e-02,  ..., -5.9322e-05,\n",
      "          1.4145e-02,  2.4395e-03]], grad_fn=<SliceBackward0>)\n",
      "\n",
      "Layer: linear_relu_stack.4.bias | Size: torch.Size([10]) | Values: tensor([-0.0402, -0.0404], grad_fn=<SliceBackward0>)\n",
      "\n"
     ]
    }
   ],
   "source": [
    "# Model's parameter\n",
    "# 신경망 내부의 많은 계층들은 매개변수화(parameterize) 됨\n",
    "# 즉, 학습 중에 최적화되는 가중치와 편향과 연관\n",
    "# nn.Module 을 상속하면 모델 객체 내부의 모든 필드들이 자동으로 추적(track)\n",
    "# 모델의 parameters() 및 named_parameters() 메소드로 모든 매개변수에 접근할 수 있게 됨\n",
    "\n",
    "# 각 layer의 parameter를 설명\n",
    "# Example)\n",
    "# Layer: linear_relu_stack.0.weight\n",
    "# Size: torch.Size([512, 784]) (output, input)\n",
    "# Value: tensor([[-0.0303, -0.0045... (weight's value) -> 각 output 만큼 Input의 w 가 할당\n",
    "# bias 는 각 output 에 하나(512), weight 는 각 output 별 input 갯수만큼 존재 (784*512)\n",
    "\n",
    "print(f\"Model structure: {model}\\n\\n\")\n",
    "\n",
    "for name, param in model.named_parameters():\n",
    "    print(f\"Layer: {name} | Size: {param.size()} | Values: {param[:2]}\\n\")"
   ]
  }
 ],
 "metadata": {
  "kernelspec": {
   "display_name": "pyTorchEnv",
   "language": "python",
   "name": "python3"
  },
  "language_info": {
   "codemirror_mode": {
    "name": "ipython",
    "version": 3
   },
   "file_extension": ".py",
   "mimetype": "text/x-python",
   "name": "python",
   "nbconvert_exporter": "python",
   "pygments_lexer": "ipython3",
   "version": "3.7.16"
  },
  "orig_nbformat": 4
 },
 "nbformat": 4,
 "nbformat_minor": 2
}
